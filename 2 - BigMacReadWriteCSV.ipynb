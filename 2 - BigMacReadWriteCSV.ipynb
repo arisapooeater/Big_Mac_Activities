{
 "cells": [
  {
   "attachments": {},
   "cell_type": "markdown",
   "metadata": {},
   "source": [
    "# Big Mac CSV Activities\n",
    "I have provided you with a very small amount of the original big mac data dataset in a .csv file. Use it to complete all the activities in this notebook."
   ]
  },
  {
   "cell_type": "code",
   "execution_count": null,
   "metadata": {},
   "outputs": [],
   "source": [
    "import pandas as pd\n",
    "\n",
    "#Read in the big_mac_aud.csv file and store it as big_mac_df. Add the headings 'Country', 'Local', 'AUD' and 'Date'\n",
    "big_mac_df = pd.read_csv('Data/big_mac_aud.csv')\n",
    "\n",
    "#Output the big_mac_df\n",
    "big_mac_df\n"
   ]
  },
  {
   "attachments": {},
   "cell_type": "markdown",
   "metadata": {},
   "source": [
    "## Add More Rows\n",
    "\n",
    "I want to add France to the above dataframe. The cost is 5.30 EUROs. You'll need to do the conversion for AUD.\n",
    "\n",
    "For information on how to add a row to a dataframe, read through the instructions on [How to Add New Rows to a Pandas Dataframe](https://saturncloud.io/blog/how-to-add-new-rows-to-a-pandas-dataframe/)\n",
    "\n",
    "**NOTE:** Inbetween each test, make sure to *Clear All Outputs* and *Run All* (options at the top of the screen)."
   ]
  },
  {
   "cell_type": "code",
   "execution_count": 63,
   "metadata": {},
   "outputs": [
    {
     "ename": "AttributeError",
     "evalue": "'DataFrame' object has no attribute 'append'",
     "output_type": "error",
     "traceback": [
      "\u001b[31m---------------------------------------------------------------------------\u001b[39m",
      "\u001b[31mAttributeError\u001b[39m                            Traceback (most recent call last)",
      "\u001b[32m~\\AppData\\Local\\Temp\\ipykernel_16224\\3505097381.py\u001b[39m in \u001b[36m?\u001b[39m\u001b[34m()\u001b[39m\n\u001b[32m      3\u001b[39m \u001b[38;5;66;03m#Create a new row as a dictionary called 'new_row'\u001b[39;00m\n\u001b[32m      4\u001b[39m new_row = {\u001b[33m'Country'\u001b[39m:\u001b[33m'France'\u001b[39m,\u001b[33m'Local_price'\u001b[39m:\u001b[32m5.30\u001b[39m,\u001b[33m'AUD_price'\u001b[39m:\u001b[32m9.43\u001b[39m,\u001b[33m'Date'\u001b[39m:\u001b[32m1\u001b[39m/\u001b[32m7\u001b[39m/\u001b[32m2023\u001b[39m}\n\u001b[32m      5\u001b[39m \n\u001b[32m      6\u001b[39m \u001b[38;5;66;03m#Add the row to big_mac_df with either the append or loc function\u001b[39;00m\n\u001b[32m----> \u001b[39m\u001b[32m7\u001b[39m big_mac_update_df = big_mac_df.append(new_row, ignore_index=\u001b[38;5;28;01mTrue\u001b[39;00m)\n\u001b[32m      8\u001b[39m \n\u001b[32m      9\u001b[39m \u001b[38;5;66;03m#Print the dataframe\u001b[39;00m\n\u001b[32m     10\u001b[39m big_mac_update_df\n",
      "\u001b[32m~\\AppData\\Roaming\\Python\\Python312\\site-packages\\pandas\\core\\generic.py\u001b[39m in \u001b[36m?\u001b[39m\u001b[34m(self, name)\u001b[39m\n\u001b[32m   6295\u001b[39m             \u001b[38;5;28;01mand\u001b[39;00m name \u001b[38;5;28;01mnot\u001b[39;00m \u001b[38;5;28;01min\u001b[39;00m self._accessors\n\u001b[32m   6296\u001b[39m             \u001b[38;5;28;01mand\u001b[39;00m self._info_axis._can_hold_identifiers_and_holds_name(name)\n\u001b[32m   6297\u001b[39m         ):\n\u001b[32m   6298\u001b[39m             \u001b[38;5;28;01mreturn\u001b[39;00m self[name]\n\u001b[32m-> \u001b[39m\u001b[32m6299\u001b[39m         \u001b[38;5;28;01mreturn\u001b[39;00m object.__getattribute__(self, name)\n",
      "\u001b[31mAttributeError\u001b[39m: 'DataFrame' object has no attribute 'append'"
     ]
    }
   ],
   "source": [
    "import pandas as pd\n",
    "\n",
    "#Create a new row as a dictionary called 'new_row'\n",
    "new_row = {'Country':'France','Local_price':5.30,'AUD_price':9.43,'Date':1/7/2023}\n",
    "\n",
    "#Add the row to big_mac_df with either the append or loc function\n",
    "big_mac_update_df = big_mac_df.append(new_row, ignore_index=True)\n",
    "\n",
    "#Print the dataframe\n",
    "big_mac_update_df"
   ]
  },
  {
   "attachments": {},
   "cell_type": "markdown",
   "metadata": {},
   "source": [
    "## Write to .csv File\n",
    "Now that we've updated the data, let's write a new .csv file reflecting the changes. \n",
    "\n",
    "**NOTE:** It should not create multiple files if you keep running this, but just remember to *Clear All Outputs* inbetween each test to avoid adding France more than once. "
   ]
  },
  {
   "cell_type": "code",
   "execution_count": null,
   "metadata": {},
   "outputs": [],
   "source": [
    "#Write the big_mac_df big_mac_update.csv in the data folder. Do not include indexes.\n",
    "big_mac_df.to_csv(\n",
    "                   'Data/big_mac_update.csv', \n",
    "                    index=False\n",
    "                    )"
   ]
  }
 ],
 "metadata": {
  "kernelspec": {
   "display_name": "Python 3",
   "language": "python",
   "name": "python3"
  },
  "language_info": {
   "codemirror_mode": {
    "name": "ipython",
    "version": 3
   },
   "file_extension": ".py",
   "mimetype": "text/x-python",
   "name": "python",
   "nbconvert_exporter": "python",
   "pygments_lexer": "ipython3",
   "version": "3.12.8"
  },
  "orig_nbformat": 4
 },
 "nbformat": 4,
 "nbformat_minor": 2
}
