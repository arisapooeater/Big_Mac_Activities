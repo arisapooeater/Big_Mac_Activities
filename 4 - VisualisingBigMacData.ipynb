{
 "cells": [
  {
   "attachments": {},
   "cell_type": "markdown",
   "metadata": {},
   "source": [
    "# Visualising Big Mac Data\n",
    "Now that we know how to store, update and delete data in pandas, how do we more easily communicate this to people?\n",
    "\n",
    "## Matplotlib\n",
    "The matploblib module for python allows us to visualise data through a variety of plot styles that you would be familiar with. This is where we really start to look at **computer science** and start applying mathematics and science using technology.\n",
    "\n",
    "## Activities\n",
    "First we're going to import data from the *big_mac_update.csv* file we created previously into a dataframe. You'll need to create a plot using matplotlib which **compares** the cost of Big Macs across all 6 nations in **AUD**. You will need to select the plot type which best represents **comparison**. \n",
    "\n",
    "For assistance, you can look at *15 - Visualising Data with matplotlib* and can also look at [Matplotlib Plot Types](https://matplotlib.org/stable/plot_types/index)."
   ]
  },
  {
   "cell_type": "code",
   "execution_count": 3,
   "metadata": {},
   "outputs": [
    {
     "ename": "SyntaxError",
     "evalue": "invalid syntax (2414352367.py, line 10)",
     "output_type": "error",
     "traceback": [
      "  \u001b[36mCell\u001b[39m\u001b[36m \u001b[39m\u001b[32mIn[3]\u001b[39m\u001b[32m, line 10\u001b[39m\n\u001b[31m    \u001b[39m\u001b[31mx= 'NATIONS',\u001b[39m\n     ^\n\u001b[31mSyntaxError\u001b[39m\u001b[31m:\u001b[39m invalid syntax\n"
     ]
    }
   ],
   "source": [
    "import matplotlib.pyplot as plt\n",
    "import pandas as pd\n",
    "\n",
    "#Read in the big_mac_update dataset to big_mac_df DataFra\n",
    "big_mac_df = pd.read_csv('Data/big_mac_update.csv')\n",
    "\n",
    "#Create the plot using big_mac_df\n",
    "big_mac_df.plot(\n",
    "                kind=\n",
    "                x= 'NATIONS',\n",
    "                y=  'price (AUD)',\n",
    "                color= 'pink',\n",
    "                alpha=0.3,\n",
    "                title= 'Comparison of Big Mac Prices across nations in AUD'\n",
    "                )       \n",
    "\n",
    "#Show the plot\n",
    "plt.show()"
   ]
  },
  {
   "attachments": {},
   "cell_type": "markdown",
   "metadata": {},
   "source": [
    "## Pandas and Statistics\n",
    "Pandas can also be used to make calculations. For instance, we can return the *mean* from a set of values.\n",
    "\n",
    "### Calculating the Mean\n",
    "For information on how to calculate averages, read through [What is Pandas Mean for a Certain Column](https://saturncloud.io/blog/what-is-pandas-mean-for-a-certain-column/)"
   ]
  },
  {
   "cell_type": "code",
   "execution_count": null,
   "metadata": {},
   "outputs": [],
   "source": [
    "#Calculate the mean and median price of a Big Mac in AUD and store them in separate variables\n",
    "\n",
    "\n",
    "#Print both clearly for users\n"
   ]
  }
 ],
 "metadata": {
  "kernelspec": {
   "display_name": "Python 3",
   "language": "python",
   "name": "python3"
  },
  "language_info": {
   "codemirror_mode": {
    "name": "ipython",
    "version": 3
   },
   "file_extension": ".py",
   "mimetype": "text/x-python",
   "name": "python",
   "nbconvert_exporter": "python",
   "pygments_lexer": "ipython3",
   "version": "3.12.8"
  }
 },
 "nbformat": 4,
 "nbformat_minor": 2
}
